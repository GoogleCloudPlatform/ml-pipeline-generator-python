{
 "cells": [
  {
   "cell_type": "code",
   "execution_count": 3,
   "metadata": {},
   "outputs": [],
   "source": [
    "from ml_pipeline_gen.pipelines import KfpPipeline"
   ]
  },
  {
   "cell_type": "code",
   "execution_count": 4,
   "metadata": {},
   "outputs": [],
   "source": [
    "config = \"./config.yaml\"\n",
    "pipeline = KfpPipeline(config=config)\n",
    "#pipeline.print_structure()"
   ]
  },
  {
   "cell_type": "code",
   "execution_count": 5,
   "metadata": {},
   "outputs": [
    {
     "name": "stdout",
     "output_type": "stream",
     "text": [
      "['preprocess', 'hptune', 'get_tuned_params', 'train', 'deploy']\n"
     ]
    }
   ],
   "source": [
    "# Review the components\n",
    "pipeline.list_components()"
   ]
  },
  {
   "cell_type": "code",
   "execution_count": 6,
   "metadata": {},
   "outputs": [],
   "source": [
    "# define pipeline structure\n",
    "preprocess = pipeline.add_component('preprocess')\n",
    "hptune = pipeline.add_component('hptune', parent=preprocess)\n",
    "get_best_params= pipeline.add_component('get_tuned_params', parent=hptune)\n",
    "train = pipeline.add_component('train', parent=get_best_params)\n",
    "deploy = pipeline.add_component('deploy', parent=train)"
   ]
  },
  {
   "cell_type": "code",
   "execution_count": 7,
   "metadata": {},
   "outputs": [],
   "source": [
    "# Generate kubeflow pipeline\n",
    "pipeline.generate_pipeline_from_config()"
   ]
  },
  {
   "cell_type": "code",
   "execution_count": null,
   "metadata": {},
   "outputs": [],
   "source": []
  }
 ],
 "metadata": {
  "kernelspec": {
   "display_name": "Python 3",
   "language": "python",
   "name": "python3"
  },
  "language_info": {
   "codemirror_mode": {
    "name": "ipython",
    "version": 3
   },
   "file_extension": ".py",
   "mimetype": "text/x-python",
   "name": "python",
   "nbconvert_exporter": "python",
   "pygments_lexer": "ipython3",
   "version": "3.6.10"
  }
 },
 "nbformat": 4,
 "nbformat_minor": 4
}
